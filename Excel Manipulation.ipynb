{
 "cells": [
  {
   "cell_type": "code",
   "execution_count": 1,
   "metadata": {},
   "outputs": [],
   "source": [
    "# Make sure that this .ipynb file is in the same location as your simulation output spreadsheet\n",
    "# CTRL + ENTER to run each block"
   ]
  },
  {
   "cell_type": "code",
   "execution_count": 1,
   "metadata": {},
   "outputs": [],
   "source": [
    "import pandas as pd\n",
    "import xlrd\n",
    "import numpy as np\n",
    "from pandas import *"
   ]
  },
  {
   "cell_type": "code",
   "execution_count": 3,
   "metadata": {},
   "outputs": [],
   "source": [
    "# Before executing the code below, open the .xlsx file and SAVE AS .xlsx again, overwriting the previous"
   ]
  },
  {
   "cell_type": "code",
   "execution_count": 2,
   "metadata": {},
   "outputs": [],
   "source": [
    "# All variables in this block such as path, simulation_output, first_sheet_name, simulation_averages,\n",
    "# and num_sheets can be changed to whatever you would like\n",
    "\n",
    "# This is the path that contains your files\n",
    "# Reset this to wherever you have your materials on your computer\n",
    "path = 'C:/Users/Darion/Desktop/Senior Project/'\n",
    "\n",
    "# This is the whole name of your simulation output spreadsheet file\n",
    "simulation_output = 'Test.xlsx'\n",
    "\n",
    "# This is the name of the new spreadsheet that the code below will create\n",
    "# It will contain your simulation averages\n",
    "# You may rename this to whatever you desire\n",
    "simulation_averages = 'TestAverages.xlsx'"
   ]
  },
  {
   "cell_type": "code",
   "execution_count": 3,
   "metadata": {},
   "outputs": [],
   "source": [
    "# This variable is based on how many simulation repetitions or sheets that you have\n",
    "# Must be the total number of sheets in the original Excel file\n",
    "num_sheets = 119\n",
    "\n",
    "# This is 'Sheet1' because that is the default name of your first sheet when you open Excel\n",
    "first_sheet_name = 'Sheet1'\n",
    "\n",
    "for i in range(1, num_sheets + 1):\n",
    "    if i == 1:\n",
    "        df = pd.read_excel(path + simulation_output, sheet_name = first_sheet_name)\n",
    "        current_state_df = df.tail(1)\n",
    "    else:\n",
    "        sheet_num = i\n",
    "        sheet = first_sheet_name + ' (' + str(sheet_num) + ')'\n",
    "        df = pd.read_excel(path + simulation_output, sheet_name = sheet)\n",
    "        current_state_df = current_state_df.append(df.tail(1))\n",
    "        \n",
    "current_state_df.drop(list(df.filter(regex = 'Unnamed:')), axis = 1, inplace = True)           \n",
    "current_state_df = current_state_df.reset_index(drop=True)\n",
    "current_state_df.loc['Mean'] = current_state_df.mean()\n",
    "\n",
    "current_state_df.to_excel(path + simulation_averages, index = True)"
   ]
  }
 ],
 "metadata": {
  "kernelspec": {
   "display_name": "Python 3",
   "language": "python",
   "name": "python3"
  },
  "language_info": {
   "codemirror_mode": {
    "name": "ipython",
    "version": 3
   },
   "file_extension": ".py",
   "mimetype": "text/x-python",
   "name": "python",
   "nbconvert_exporter": "python",
   "pygments_lexer": "ipython3",
   "version": "3.7.9"
  }
 },
 "nbformat": 4,
 "nbformat_minor": 4
}
